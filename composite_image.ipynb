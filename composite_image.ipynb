{
 "cells": [
  {
   "cell_type": "code",
   "execution_count": 6,
   "metadata": {
    "collapsed": true,
    "pycharm": {
     "is_executing": false
    }
   },
   "outputs": [],
   "source": [
    "import numpy as N\n",
    "import h5py\n",
    "from PIL import Image, ImageChops\n",
    "from IPython.display import display\n",
    "import ipywidgets\n",
    "import pickle\n",
    "import bz2\n",
    "import misc"
   ]
  },
  {
   "cell_type": "code",
   "execution_count": 24,
   "outputs": [],
   "source": [
    "with bz2.BZ2File(\"data/density.pkl.bz2\", 'rb') as f:\n",
    "    density = pickle.load(f)"
   ],
   "metadata": {
    "collapsed": false,
    "pycharm": {
     "name": "#%%\n",
     "is_executing": false
    }
   }
  },
  {
   "cell_type": "code",
   "execution_count": 25,
   "outputs": [
    {
     "data": {
      "text/plain": "interactive(children=(FloatSlider(value=1.0, description='dropped percentile', max=10.0, min=0.001, step=0.001…",
      "application/vnd.jupyter.widget-view+json": {
       "version_major": 2,
       "version_minor": 0,
       "model_id": "f0f3750318e8466383399e91c9bf5f15"
      }
     },
     "metadata": {},
     "output_type": "display_data"
    }
   ],
   "source": [
    "def show_density(drop_pct):\n",
    "    vmin, vmax = misc.value_range(density, drop_percentile=drop_pct)\n",
    "    img = misc.pil_img(density, N.log10(vmin), \"viridis\")\n",
    "    display(img)\n",
    "    return img\n",
    "\n",
    "w = ipywidgets.interactive(show_density, drop_pct=ipywidgets.FloatSlider(min=0.001, max=10.0,value=1.0, step=0.001,\n",
    "                                                                         # continuous_update=False,\n",
    "                                                                         description=\"dropped percentile\"))\n",
    "\n",
    "output = w.children[-1]\n",
    "output.layout.height = '512px'\n",
    "display(w)"
   ],
   "metadata": {
    "collapsed": false,
    "pycharm": {
     "name": "#%%\n",
     "is_executing": false
    }
   }
  },
  {
   "cell_type": "code",
   "execution_count": 27,
   "outputs": [
    {
     "data": {
      "text/plain": "interactive(children=(FloatSlider(value=1.0, description='dropped percentile (rho)', max=10.0, min=0.001, step…",
      "application/vnd.jupyter.widget-view+json": {
       "version_major": 2,
       "version_minor": 0,
       "model_id": "0954ab9a1e95459e880dc37315f05226"
      }
     },
     "metadata": {},
     "output_type": "display_data"
    }
   ],
   "source": [
    "with bz2.BZ2File(\"data/temperature.pkl.bz2\", 'rb') as f:\n",
    "    temperature = pickle.load(f)\n",
    "\n",
    "\n",
    "def show_composite(drop_pct_rho, drop_pct_temp):\n",
    "    vmin, vmax = misc.value_range(density, drop_percentile=drop_pct_rho)\n",
    "    rho_img = misc.pil_img(density, N.log10(vmin), \"viridis\")\n",
    "    vmin, vmax = misc.value_range(temperature, drop_percentile=drop_pct_temp)\n",
    "    T_img = misc.pil_img(temperature, N.log10(vmin), \"inferno\")\n",
    "    composite = ImageChops.lighter(rho_img, T_img)\n",
    "    display(composite)\n",
    "    return composite\n",
    "\n",
    "w = ipywidgets.interactive(show_composite, drop_pct_rho=ipywidgets.FloatSlider(min=0.001, max=10.0,value=1.0, step=0.001,\n",
    "                                                                         # continuous_update=False,\n",
    "                                                                         description=\"dropped percentile (rho)\"),\n",
    "                                           drop_pct_temp=ipywidgets.FloatSlider(min=0.001, max=10.0,value=1.0, step=0.001,\n",
    "                                                                         # continuous_update=False,\n",
    "                                                                         description=\"dropped percentile (T)\"))\n",
    "\n",
    "output = w.children[-1]\n",
    "output.layout.height = '512px'\n",
    "display(w)"
   ],
   "metadata": {
    "collapsed": false,
    "pycharm": {
     "name": "#%%\n",
     "is_executing": false
    }
   }
  },
  {
   "cell_type": "code",
   "execution_count": null,
   "outputs": [],
   "source": [
    "\n"
   ],
   "metadata": {
    "collapsed": false,
    "pycharm": {
     "name": "#%%\n"
    }
   }
  }
 ],
 "metadata": {
  "kernelspec": {
   "display_name": "Python 3",
   "language": "python",
   "name": "python3"
  },
  "language_info": {
   "codemirror_mode": {
    "name": "ipython",
    "version": 2
   },
   "file_extension": ".py",
   "mimetype": "text/x-python",
   "name": "python",
   "nbconvert_exporter": "python",
   "pygments_lexer": "ipython2",
   "version": "2.7.6"
  },
  "pycharm": {
   "stem_cell": {
    "cell_type": "raw",
    "source": [],
    "metadata": {
     "collapsed": false
    }
   }
  }
 },
 "nbformat": 4,
 "nbformat_minor": 0
}