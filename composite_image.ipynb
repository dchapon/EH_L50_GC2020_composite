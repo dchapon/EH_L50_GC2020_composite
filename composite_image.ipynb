{
 "cells": [
  {
   "cell_type": "code",
   "execution_count": 1,
   "metadata": {
    "collapsed": true,
    "pycharm": {
     "is_executing": false
    }
   },
   "outputs": [],
   "source": [
    "import numpy as N\n",
    "from PIL import Image, ImageChops\n",
    "from IPython.display import display\n",
    "import ipywidgets\n",
    "import pickle\n",
    "import bz2\n",
    "import misc"
   ]
  },
  {
   "cell_type": "code",
   "execution_count": 2,
   "outputs": [],
   "source": [
    "with bz2.BZ2File(\"data/density.pkl.bz2\", 'rb') as f:\n",
    "    density = pickle.load(f)"
   ],
   "metadata": {
    "collapsed": false,
    "pycharm": {
     "name": "#%%\n",
     "is_executing": false
    }
   }
  },
  {
   "cell_type": "code",
   "execution_count": null,
   "outputs": [
    {
     "data": {
      "text/plain": "interactive(children=(FloatSlider(value=1.0, continuous_update=False, description='dropped percentile', max=10…",
      "application/vnd.jupyter.widget-view+json": {
       "version_major": 2,
       "version_minor": 0,
       "model_id": "d38c9fd36a8e45e6a50b048cffbfe64e"
      }
     },
     "metadata": {},
     "output_type": "display_data"
    }
   ],
   "source": [
    "def show_density(drop_pct):\n",
    "    vmin, vmax = misc.value_range(density, drop_percentile=drop_pct)\n",
    "    img = misc.pil_img(density, N.log10(vmin), \"Viridis_dark\")\n",
    "    display(img)\n",
    "    return img\n",
    "\n",
    "w = ipywidgets.interactive(show_density, drop_pct=ipywidgets.FloatSlider(min=0.001, max=10.0,value=1.0, step=0.001,\n",
    "                                                                         continuous_update=False,\n",
    "                                                                         description=\"dropped percentile\"))\n",
    "\n",
    "output = w.children[-1]\n",
    "output.layout.height = '512px'\n",
    "display(w)"
   ],
   "metadata": {
    "collapsed": false,
    "pycharm": {
     "name": "#%%\n",
     "is_executing": true
    }
   }
  },
  {
   "cell_type": "code",
   "execution_count": 4,
   "outputs": [
    {
     "data": {
      "text/plain": "interactive(children=(FloatSlider(value=1.0, continuous_update=False, description='dropped percentile (rho)', …",
      "application/vnd.jupyter.widget-view+json": {
       "version_major": 2,
       "version_minor": 0,
       "model_id": "941fa307ea454571888f7f6e88a59166"
      }
     },
     "metadata": {},
     "output_type": "display_data"
    }
   ],
   "source": [
    "with bz2.BZ2File(\"data/temperature.pkl.bz2\", 'rb') as f:\n",
    "    temperature = pickle.load(f)\n",
    "with bz2.BZ2File(\"data/metal.pkl.bz2\", 'rb') as f:\n",
    "    metallicity = pickle.load(f)\n",
    "\n",
    "\n",
    "def show_composite(drop_pct_rho, drop_pct_temp, drop_pct_metal):\n",
    "    vmin, vmax = misc.value_range(density, drop_percentile=drop_pct_rho)\n",
    "    rho_img = misc.pil_img(density, N.log10(vmin), \"Viridis_dark\")\n",
    "    vmin, vmax = misc.value_range(temperature, drop_percentile=drop_pct_temp)\n",
    "    T_img = misc.pil_img(temperature, N.log10(vmin), \"inferno\")\n",
    "    vmin, vmax = misc.value_range(metallicity, drop_percentile=drop_pct_metal)\n",
    "    m_img = misc.pil_img(metallicity, N.log10(vmin), \"Dark_green\")\n",
    "\n",
    "    composite = ImageChops.lighter(rho_img, T_img)\n",
    "    composite = ImageChops.lighter(composite, m_img)\n",
    "    display(composite)\n",
    "    return composite\n",
    "\n",
    "w = ipywidgets.interactive(show_composite, drop_pct_rho=ipywidgets.FloatSlider(min=0.001, max=10.0,value=1.0, step=0.001,\n",
    "                                                                         continuous_update=False,\n",
    "                                                                         description=\"dropped percentile (rho)\"),\n",
    "                                           drop_pct_temp=ipywidgets.FloatSlider(min=0.001, max=10.0,value=1.0, step=0.001,\n",
    "                                                                         continuous_update=False,\n",
    "                                                                         description=\"dropped percentile (T)\"),\n",
    "                                           drop_pct_metal=ipywidgets.FloatSlider(min=0.001, max=10.0,value=1.0, step=0.001,\n",
    "                                                                         continuous_update=False,\n",
    "                                                                         description=\"dropped percentile (metal)\"))\n",
    "\n",
    "output = w.children[-1]\n",
    "output.layout.height = '512px'\n",
    "display(w)"
   ],
   "metadata": {
    "collapsed": false,
    "pycharm": {
     "name": "#%%\n",
     "is_executing": false
    }
   }
  },
  {
   "cell_type": "code",
   "execution_count": 4,
   "outputs": [],
   "source": [
    "\n"
   ],
   "metadata": {
    "collapsed": false,
    "pycharm": {
     "name": "#%%\n",
     "is_executing": false
    }
   }
  }
 ],
 "metadata": {
  "kernelspec": {
   "display_name": "Python 3",
   "language": "python",
   "name": "python3"
  },
  "language_info": {
   "codemirror_mode": {
    "name": "ipython",
    "version": 2
   },
   "file_extension": ".py",
   "mimetype": "text/x-python",
   "name": "python",
   "nbconvert_exporter": "python",
   "pygments_lexer": "ipython2",
   "version": "2.7.6"
  },
  "pycharm": {
   "stem_cell": {
    "cell_type": "raw",
    "source": [],
    "metadata": {
     "collapsed": false
    }
   }
  }
 },
 "nbformat": 4,
 "nbformat_minor": 0
}